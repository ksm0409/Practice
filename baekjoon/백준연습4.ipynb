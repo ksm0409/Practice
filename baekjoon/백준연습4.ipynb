{
  "nbformat": 4,
  "nbformat_minor": 0,
  "metadata": {
    "colab": {
      "provenance": [],
      "authorship_tag": "ABX9TyOxTagHL5xRzvIDFnfeykP8",
      "include_colab_link": true
    },
    "kernelspec": {
      "name": "python3",
      "display_name": "Python 3"
    },
    "language_info": {
      "name": "python"
    }
  },
  "cells": [
    {
      "cell_type": "markdown",
      "metadata": {
        "id": "view-in-github",
        "colab_type": "text"
      },
      "source": [
        "<a href=\"https://colab.research.google.com/github/ksm0409/Practice/blob/main/%EB%B0%B1%EC%A4%80%EC%97%B0%EC%8A%B52.ipynb\" target=\"_parent\"><img src=\"https://colab.research.google.com/assets/colab-badge.svg\" alt=\"Open In Colab\"/></a>"
      ]
    },
    {
      "cell_type": "code",
      "execution_count": null,
      "metadata": {
        "colab": {
          "base_uri": "https://localhost:8080/"
        },
        "id": "P1AyK2axMAgJ",
        "outputId": "e55a090b-53b6-4847-9de8-2e2366c1c5de"
      },
      "outputs": [
        {
          "output_type": "stream",
          "name": "stdout",
          "text": [
            "Hello World!\n"
          ]
        }
      ],
      "source": [
        "print(\"Hello World!\")"
      ]
    },
    {
      "cell_type": "code",
      "source": [],
      "metadata": {
        "id": "j04pKSybAWGk"
      },
      "execution_count": null,
      "outputs": []
    },
    {
      "cell_type": "code",
      "source": [
        "# 1000번\n",
        "# A+B 입출력\n",
        "\n",
        "# A = int(input())\n",
        "# B = int(input())\n",
        "# print(A+B)\n",
        "\n",
        "A, B = map(int, input().split())\n",
        "print(A+B)\n",
        "\n",
        "# A,B,C,*_ = map(int, input().split())\n",
        "# print(A+B)\n",
        "# print(_)"
      ],
      "metadata": {
        "colab": {
          "base_uri": "https://localhost:8080/"
        },
        "id": "Hdm5qAFLWPNl",
        "outputId": "abd3cf2a-ff02-48f4-f4bc-0eac934773cb"
      },
      "execution_count": null,
      "outputs": [
        {
          "output_type": "stream",
          "name": "stdout",
          "text": [
            "1 2\n",
            "3\n"
          ]
        }
      ]
    },
    {
      "cell_type": "code",
      "source": [
        "# 1001번\n",
        "# A-B 입출력\n",
        "\n",
        "A, B = map(int, input().split())\n",
        "print(A-B)\n"
      ],
      "metadata": {
        "colab": {
          "base_uri": "https://localhost:8080/"
        },
        "id": "RIvc6EPcbc9j",
        "outputId": "284d4465-6781-493e-8cc7-aac20d96e6f5"
      },
      "execution_count": null,
      "outputs": [
        {
          "output_type": "stream",
          "name": "stdout",
          "text": [
            "3 2\n",
            "1\n"
          ]
        }
      ]
    },
    {
      "cell_type": "code",
      "source": [
        "# 10998번\n",
        "# AxB 입출력\n",
        "\n",
        "A, B = map(int, input().split())\n",
        "print(A*B)"
      ],
      "metadata": {
        "colab": {
          "base_uri": "https://localhost:8080/"
        },
        "id": "DBY0pPEUcHCO",
        "outputId": "a8522da7-f7d7-41d5-8f0f-c29c1a563d05"
      },
      "execution_count": null,
      "outputs": [
        {
          "output_type": "stream",
          "name": "stdout",
          "text": [
            "2 3\n",
            "6\n"
          ]
        }
      ]
    },
    {
      "cell_type": "code",
      "source": [
        "# 1008번\n",
        "# A/B 입출력\n",
        "\n",
        "A, B = map(int, input().split())\n",
        "print(A/B)\n",
        "# print('{:.2f}'.format(A/B))\n",
        "# print('{:.2f}'.format(A/B))\n",
        "# print('%.2f'%(A/B))\n",
        "# print(f'{(A/B):.2f}')\n",
        "# print(round(A/B,2))"
      ],
      "metadata": {
        "colab": {
          "base_uri": "https://localhost:8080/"
        },
        "id": "blJNNantcsFh",
        "outputId": "abe53532-648d-4b5c-8c31-e6d42af0c79b"
      },
      "execution_count": null,
      "outputs": [
        {
          "output_type": "stream",
          "name": "stdout",
          "text": [
            "2 3\n",
            "0.6666666666666666\n"
          ]
        }
      ]
    },
    {
      "cell_type": "code",
      "source": [
        "# 10869번\n",
        "# 사칙연산 출력\n",
        "\n",
        "A, B = map(int, input().split())\n",
        "print(A+B)\n",
        "print(A-B)\n",
        "print(A*B)\n",
        "print(A//B)\n",
        "print(A%B)"
      ],
      "metadata": {
        "colab": {
          "base_uri": "https://localhost:8080/"
        },
        "id": "W-r_1pDCgFx2",
        "outputId": "5f87a27e-ad59-46c3-a10b-b59f3ab89afc"
      },
      "execution_count": null,
      "outputs": [
        {
          "output_type": "stream",
          "name": "stdout",
          "text": [
            "7 3\n",
            "10\n",
            "4\n",
            "21\n",
            "2\n",
            "1\n"
          ]
        }
      ]
    },
    {
      "cell_type": "code",
      "source": [
        "# 10926번\n",
        "# ??! 이어서 출력\n",
        "# A=input()\n",
        "# print(A+\"??!\")\n",
        "\n",
        "print(input()+\"??!\")"
      ],
      "metadata": {
        "colab": {
          "base_uri": "https://localhost:8080/"
        },
        "id": "o0PkMRZqBWvH",
        "outputId": "ec438057-a853-4eb6-b66f-5bef4f7bbc4a"
      },
      "execution_count": null,
      "outputs": [
        {
          "output_type": "stream",
          "name": "stdout",
          "text": [
            "kalgu\n",
            "kalgu??!\n"
          ]
        }
      ]
    },
    {
      "cell_type": "code",
      "source": [
        "# 18108번\n",
        "# 숫자변환 출력\n",
        "# A = int(input())\n",
        "# print(A-543)\n",
        "\n",
        "print(int(input())-543)"
      ],
      "metadata": {
        "colab": {
          "base_uri": "https://localhost:8080/"
        },
        "id": "6Dz32CybDOhG",
        "outputId": "15d2ab84-0508-4bfe-9bc7-814ebb30fe20"
      },
      "execution_count": null,
      "outputs": [
        {
          "output_type": "stream",
          "name": "stdout",
          "text": [
            "2541\n",
            "1998\n"
          ]
        }
      ]
    },
    {
      "cell_type": "code",
      "source": [
        "# 10430번\n",
        "# (A+B)%C는 ((A%C) + (B%C))%C 와 같을까?\n",
        "# (A×B)%C는 ((A%C) × (B%C))%C 와 같을까?\n",
        "# 세 수 A, B, C가 주어졌을 때, 위의 네 가지 값을 구하는 프로그램을 작성하시오.\n",
        "\n",
        "A, B, C = map(int, input().split())\n",
        "print((A+B)%C)\n",
        "print(((A%C)+(B%C))%C)\n",
        "print((A*B)%C)\n",
        "print(((A%C)*(B%C))%C)\n",
        "\n",
        "# print((A+B)%C, ((A%C)+(B%C))%C, (A*B)%C, ((A%C)*(B%C))%C)"
      ],
      "metadata": {
        "colab": {
          "base_uri": "https://localhost:8080/"
        },
        "id": "89am1HY8EP7i",
        "outputId": "bb5976a5-d17d-460c-a990-dd0ef7e9f2e1"
      },
      "execution_count": null,
      "outputs": [
        {
          "output_type": "stream",
          "name": "stdout",
          "text": [
            "5 8 4\n",
            "1 1 0 0\n"
          ]
        }
      ]
    },
    {
      "cell_type": "code",
      "source": [
        "# 2588번\n",
        "# 세자리 수 곱셈\n",
        "\n",
        "# A, B = map(int, input().split())\n",
        "# print(A*(B%10))\n",
        "# print(A*((B%100)//10))\n",
        "# print(A*(B//100))\n",
        "# print(A*B)\n",
        "\n",
        "A = int(input())\n",
        "B = input()\n",
        "\n",
        "# print(A*int(B[2]))\n",
        "# print(A*int(B[1]))\n",
        "# print(A*int(B[0]))\n",
        "# print(A*int(B))\n",
        "\n",
        "for i in (2,1,0):\n",
        "  print(A*int(B[i]))\n",
        "print(A*int(B))"
      ],
      "metadata": {
        "colab": {
          "base_uri": "https://localhost:8080/"
        },
        "id": "51gxCOk_OljJ",
        "outputId": "d9df8cfe-19eb-4945-9bb0-1466f418ec38"
      },
      "execution_count": null,
      "outputs": [
        {
          "output_type": "stream",
          "name": "stdout",
          "text": [
            "472\n",
            "385\n",
            "2360\n",
            "3776\n",
            "1416\n",
            "181720\n"
          ]
        }
      ]
    },
    {
      "cell_type": "code",
      "source": [
        "# 11382번\n",
        "# 3개 수 더하기\n",
        "\n",
        "# A, B, C = map(int, input().split())\n",
        "# print(A+B+C)\n",
        "\n",
        "print(sum(map(int, input().split())))"
      ],
      "metadata": {
        "colab": {
          "base_uri": "https://localhost:8080/"
        },
        "id": "KpG5PMi0AZAO",
        "outputId": "95d46763-5c50-4171-f0b4-a161d4c29659"
      },
      "execution_count": 6,
      "outputs": [
        {
          "output_type": "stream",
          "name": "stdout",
          "text": [
            "77 77 7777\n",
            "7931\n"
          ]
        }
      ]
    },
    {
      "cell_type": "code",
      "source": [
        "# 10171번\n",
        "# 고양이 출력\n",
        "\n",
        "print('\\    /\\\\')\n",
        "print(\" )  ( ')\")\n",
        "print('(  /  )')\n",
        "print(' \\(__)|')"
      ],
      "metadata": {
        "colab": {
          "base_uri": "https://localhost:8080/"
        },
        "id": "TZ9-LTtCBBTh",
        "outputId": "341b3eee-eca4-46e0-b7ee-c3b10219563e"
      },
      "execution_count": 16,
      "outputs": [
        {
          "output_type": "stream",
          "name": "stdout",
          "text": [
            "\\    /\\\n",
            " )  ( ')\n",
            "(  /  )\n",
            " \\(__)|\n"
          ]
        }
      ]
    },
    {
      "cell_type": "code",
      "source": [],
      "metadata": {
        "id": "UYecibNjCRRe"
      },
      "execution_count": null,
      "outputs": []
    }
  ]
}
