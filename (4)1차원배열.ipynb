{
  "nbformat": 4,
  "nbformat_minor": 0,
  "metadata": {
    "colab": {
      "provenance": [],
      "authorship_tag": "ABX9TyO3kLMvk4zXoPizbf4cUKon",
      "include_colab_link": true
    },
    "kernelspec": {
      "name": "python3",
      "display_name": "Python 3"
    },
    "language_info": {
      "name": "python"
    }
  },
  "cells": [
    {
      "cell_type": "markdown",
      "metadata": {
        "id": "view-in-github",
        "colab_type": "text"
      },
      "source": [
        "<a href=\"https://colab.research.google.com/github/ksm0409/Practice/blob/main/(4)1%EC%B0%A8%EC%9B%90%EB%B0%B0%EC%97%B4.ipynb\" target=\"_parent\"><img src=\"https://colab.research.google.com/assets/colab-badge.svg\" alt=\"Open In Colab\"/></a>"
      ]
    },
    {
      "cell_type": "code",
      "execution_count": null,
      "metadata": {
        "colab": {
          "base_uri": "https://localhost:8080/"
        },
        "id": "b63tUe5VHybf",
        "outputId": "d2a9b731-a775-4897-b51d-ad67e8e7f779"
      },
      "outputs": [
        {
          "output_type": "stream",
          "name": "stdout",
          "text": [
            "11\n",
            "1 2 1 2 1 2 1 2 1 2 1\n",
            "1\n",
            "6\n"
          ]
        }
      ],
      "source": [
        "# 10807번\n",
        "# 개수 세기\n",
        "\n",
        "N = int(input())\n",
        "L = list(map(int, input().split()))\n",
        "V = int(input())\n",
        "\n",
        "print(L.count(V))"
      ]
    },
    {
      "cell_type": "code",
      "source": [
        "# 10871번\n",
        "# X보다 작은 수\n",
        "\n",
        "A, B = map(int, input().split())\n",
        "L = list(map(int, input().split()))\n",
        "for i in range(A) :\n",
        "  if L[i]<B : print(L[i], end=\" \")"
      ],
      "metadata": {
        "colab": {
          "base_uri": "https://localhost:8080/"
        },
        "id": "uH7KuLdHLU_g",
        "outputId": "22b56e55-e21a-46e9-dbc1-9b11c958c6ad"
      },
      "execution_count": null,
      "outputs": [
        {
          "output_type": "stream",
          "name": "stdout",
          "text": [
            "11 5\n",
            "1 2 3 4 5 6 7 8 9 10 11\n",
            "1 2 3 4 "
          ]
        }
      ]
    },
    {
      "cell_type": "code",
      "source": [
        "# 10818번\n",
        "# 최소, 최대\n",
        "\n",
        "N = int(input())\n",
        "L = list(map(int, input().split()))\n",
        "print(min(L), max(L))"
      ],
      "metadata": {
        "colab": {
          "base_uri": "https://localhost:8080/"
        },
        "id": "wKSMHQ6UaS0C",
        "outputId": "44b8fe23-8d4a-42f2-d3ac-8e971e3c6b39"
      },
      "execution_count": null,
      "outputs": [
        {
          "output_type": "stream",
          "name": "stdout",
          "text": [
            "5\n",
            "11 12 13 14 15\n",
            "11 15\n"
          ]
        }
      ]
    },
    {
      "cell_type": "code",
      "source": [
        "# 2562번\n",
        "# 최댓값\n",
        "\n",
        "A = []\n",
        "for i in range(9) :\n",
        "  A.append(int(input()))\n",
        "\n",
        "# A = [int(input()) for _ in range(9)]\n",
        "\n",
        "print(max(A))\n",
        "print(A.index(max(A))+1)"
      ],
      "metadata": {
        "colab": {
          "base_uri": "https://localhost:8080/"
        },
        "id": "ClJQ7JTzb22f",
        "outputId": "17cab697-7856-4a5d-e506-bd6a0e0595c0"
      },
      "execution_count": null,
      "outputs": [
        {
          "output_type": "stream",
          "name": "stdout",
          "text": [
            "1\n",
            "3\n",
            "5\n",
            "7\n",
            "9\n",
            "8\n",
            "6\n",
            "4\n",
            "2\n",
            "10\n",
            "1\n"
          ]
        }
      ]
    },
    {
      "cell_type": "code",
      "source": [
        "# 10810번\n",
        "# N개의 바구니, M번 공 넣기\n",
        "\n",
        "\n",
        "N, M = map(int, input().split())\n",
        "L = [0] * (N+1)\n",
        "\n",
        "for _ in range(M) :\n",
        "  A, B, C = map(int, input().split())\n",
        "  for i in range(A, B+1) :\n",
        "    L[i] = C\n",
        "\n",
        "# for i in range (1, N+1) : print(L[i], end=' ')\n",
        "print(*L[1:])"
      ],
      "metadata": {
        "id": "bm2vYp6ZhIZg",
        "colab": {
          "base_uri": "https://localhost:8080/"
        },
        "outputId": "13c0da06-adad-4f13-819b-b2f8dce6bd95"
      },
      "execution_count": null,
      "outputs": [
        {
          "output_type": "stream",
          "name": "stdout",
          "text": [
            "5 4\n",
            "1 2 3\n",
            "3 4 4\n",
            "1 4 1\n",
            "2 2 2\n",
            "1 2 1 1 0\n"
          ]
        }
      ]
    },
    {
      "cell_type": "code",
      "source": [
        "# 10813번\n",
        "# 공 바꾸기\n",
        "\n",
        "N, M = map(int, input().split())\n",
        "\n",
        "# L = [0] * (N+1)\n",
        "# for i in range(1, N+1) : L[i] = i\n",
        "L = [0] + [*range(1, N+1)]\n",
        "\n",
        "for _ in range(M) :\n",
        "  A, B = map(int, input().split())\n",
        "  # L[0] = L[A]\n",
        "  # L[A] = L[B]\n",
        "  # L[B] = L[0]\n",
        "  L[A], L[B] = L[B], L[A]\n",
        "\n",
        "print(*L[1:])"
      ],
      "metadata": {
        "colab": {
          "base_uri": "https://localhost:8080/"
        },
        "id": "Y2yWU_gPwTAp",
        "outputId": "c0acf7d6-9dfd-4194-e625-61981b9db7bf"
      },
      "execution_count": null,
      "outputs": [
        {
          "output_type": "stream",
          "name": "stdout",
          "text": [
            "5 4\n",
            "1 2\n",
            "3 4\n",
            "1 4\n",
            "2 2\n",
            "3 1 4 2 5\n"
          ]
        }
      ]
    },
    {
      "cell_type": "code",
      "source": [
        "# 5597번\n",
        "# 과제 안 내신 분..?\n",
        "\n",
        "# L = []\n",
        "# for i in range(30) :\n",
        "#   L.append(i+1)\n",
        "# for i in range(28) :\n",
        "#   A = int(input())\n",
        "#   L.remove(A)\n",
        "# print(min(L))\n",
        "# print(max(L))\n",
        "\n",
        "L=list(map(int,range(1,31)))\n",
        "for i in range(28):\n",
        "    L.remove(int(input()))\n",
        "for j in L:\n",
        "    print(j)"
      ],
      "metadata": {
        "id": "S4fX-duyzvNZ",
        "colab": {
          "base_uri": "https://localhost:8080/"
        },
        "outputId": "b344d3c0-3fc4-43b8-da96-e9c01ccd22e3"
      },
      "execution_count": null,
      "outputs": [
        {
          "name": "stdout",
          "output_type": "stream",
          "text": [
            "1\n",
            "2\n",
            "3\n",
            "4\n",
            "5\n",
            "6\n",
            "7\n",
            "8\n",
            "\u0004\n"
          ]
        }
      ]
    },
    {
      "cell_type": "code",
      "source": [
        "# 3052번\n",
        "# 나머지 리스트\n",
        "\n",
        "L = []\n",
        "for _ in range(10) :\n",
        "  A = int(input())\n",
        "  if A%42 not in L :\n",
        "    L.append(A%42)\n",
        "print(len(L))\n",
        "\n",
        "# print(len(set(L))) >> set : 중복 값 제거(순서는 뒤섞임)"
      ],
      "metadata": {
        "id": "KXEunYVoH1lA",
        "colab": {
          "base_uri": "https://localhost:8080/"
        },
        "outputId": "6808c54a-ef0e-482d-b1d1-ab4e23a5eb52"
      },
      "execution_count": 3,
      "outputs": [
        {
          "output_type": "stream",
          "name": "stdout",
          "text": [
            "1\n",
            "42\n",
            "1\n",
            "84\n",
            "2\n",
            "56\n",
            "2\n",
            "2\n",
            "3\n",
            "3\n",
            "5\n"
          ]
        }
      ]
    },
    {
      "cell_type": "code",
      "source": [
        "# 10811번\n",
        "# 바구니 뒤집기\n",
        "\n",
        "A, B = map(int, input().split())\n",
        "L = [i for i in range(1, A+1)]\n",
        "for i in range(B) :\n",
        "  x, y = map(int, input().split())\n",
        "  while(x<y) :\n",
        "    try :\n",
        "      L[x-1], L[y-1] = L[y-1], L[x-1]\n",
        "      x += 1\n",
        "      y -= 1\n",
        "    except :\n",
        "      break\n",
        "print(*L)\n",
        "\n",
        "# A,B = map(int, input().split())\n",
        "# L = [*range(1,A+1)]\n",
        "# for _ in range(B):\n",
        "#     i,j = map(int, input().split())\n",
        "#     L[i-1:j] = L[i-1:j][::-1]\n",
        "# print(*L)"
      ],
      "metadata": {
        "colab": {
          "base_uri": "https://localhost:8080/"
        },
        "id": "G8nGfTL28k_S",
        "outputId": "00708eb3-4943-4b57-c7be-c5c56074104a"
      },
      "execution_count": 15,
      "outputs": [
        {
          "output_type": "stream",
          "name": "stdout",
          "text": [
            "5 4\n",
            "1 2\n",
            "3 4\n",
            "1 4\n",
            "2 2\n",
            "3 4 1 2 5\n"
          ]
        }
      ]
    },
    {
      "cell_type": "code",
      "source": [
        "# 1546번\n",
        "# 평균\n",
        "A = int(input())\n",
        "L = [*map(int, input().split())]\n",
        "\n",
        "M = max(L)\n",
        "for i in range(A) :\n",
        "  L[i] = (L[i]*100)/M\n",
        "\n",
        "print(float(sum(L)/A))\n",
        "\n",
        "# for i in range(A) :\n",
        "#   L[i] = (L[i]*100)/max(L) >> L[i]가 실시간으로 바뀌어버림\n",
        "\n",
        "# N=int(input())\n",
        "# L=list(map(int,input().split()))\n",
        "# print(sum(L)/max(L)*100/N)\n",
        "# 에라이"
      ],
      "metadata": {
        "colab": {
          "base_uri": "https://localhost:8080/"
        },
        "id": "dg71WbbZFkf8",
        "outputId": "a413fea8-05e6-45d1-d41f-3da9ea749d96"
      },
      "execution_count": 26,
      "outputs": [
        {
          "output_type": "stream",
          "name": "stdout",
          "text": [
            "3\n",
            "10 20 30\n",
            "66.66666666666667\n"
          ]
        }
      ]
    }
  ]
}