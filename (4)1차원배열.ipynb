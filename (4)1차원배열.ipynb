{
  "nbformat": 4,
  "nbformat_minor": 0,
  "metadata": {
    "colab": {
      "provenance": [],
      "authorship_tag": "ABX9TyNxPWFlU1DOlHGys/BNCmcb",
      "include_colab_link": true
    },
    "kernelspec": {
      "name": "python3",
      "display_name": "Python 3"
    },
    "language_info": {
      "name": "python"
    }
  },
  "cells": [
    {
      "cell_type": "markdown",
      "metadata": {
        "id": "view-in-github",
        "colab_type": "text"
      },
      "source": [
        "<a href=\"https://colab.research.google.com/github/ksm0409/Practice/blob/main/(4)1%EC%B0%A8%EC%9B%90%EB%B0%B0%EC%97%B4.ipynb\" target=\"_parent\"><img src=\"https://colab.research.google.com/assets/colab-badge.svg\" alt=\"Open In Colab\"/></a>"
      ]
    },
    {
      "cell_type": "code",
      "execution_count": null,
      "metadata": {
        "colab": {
          "base_uri": "https://localhost:8080/"
        },
        "id": "b63tUe5VHybf",
        "outputId": "d2a9b731-a775-4897-b51d-ad67e8e7f779"
      },
      "outputs": [
        {
          "output_type": "stream",
          "name": "stdout",
          "text": [
            "11\n",
            "1 2 1 2 1 2 1 2 1 2 1\n",
            "1\n",
            "6\n"
          ]
        }
      ],
      "source": [
        "# 10807번\n",
        "# 개수 세기\n",
        "\n",
        "N = int(input())\n",
        "L = list(map(int, input().split()))\n",
        "V = int(input())\n",
        "\n",
        "print(L.count(V))"
      ]
    },
    {
      "cell_type": "code",
      "source": [
        "# 10871번\n",
        "# X보다 작은 수\n",
        "\n",
        "A, B = map(int, input().split())\n",
        "L = list(map(int, input().split()))\n",
        "for i in range(A) :\n",
        "  if L[i]<B : print(L[i], end=\" \")"
      ],
      "metadata": {
        "colab": {
          "base_uri": "https://localhost:8080/"
        },
        "id": "uH7KuLdHLU_g",
        "outputId": "22b56e55-e21a-46e9-dbc1-9b11c958c6ad"
      },
      "execution_count": null,
      "outputs": [
        {
          "output_type": "stream",
          "name": "stdout",
          "text": [
            "11 5\n",
            "1 2 3 4 5 6 7 8 9 10 11\n",
            "1 2 3 4 "
          ]
        }
      ]
    },
    {
      "cell_type": "code",
      "source": [
        "# 10818번\n",
        "# 최소, 최대\n",
        "\n",
        "N = int(input())\n",
        "L = list(map(int, input().split()))\n",
        "print(min(L), max(L))"
      ],
      "metadata": {
        "colab": {
          "base_uri": "https://localhost:8080/"
        },
        "id": "wKSMHQ6UaS0C",
        "outputId": "44b8fe23-8d4a-42f2-d3ac-8e971e3c6b39"
      },
      "execution_count": null,
      "outputs": [
        {
          "output_type": "stream",
          "name": "stdout",
          "text": [
            "5\n",
            "11 12 13 14 15\n",
            "11 15\n"
          ]
        }
      ]
    },
    {
      "cell_type": "code",
      "source": [
        "# 2562번\n",
        "# 최댓값\n",
        "\n",
        "A = []\n",
        "for i in range(9) :\n",
        "  A.append(int(input()))\n",
        "\n",
        "# A = [int(input()) for _ in range(9)]\n",
        "\n",
        "print(max(A))\n",
        "print(A.index(max(A))+1)"
      ],
      "metadata": {
        "colab": {
          "base_uri": "https://localhost:8080/"
        },
        "id": "ClJQ7JTzb22f",
        "outputId": "17cab697-7856-4a5d-e506-bd6a0e0595c0"
      },
      "execution_count": null,
      "outputs": [
        {
          "output_type": "stream",
          "name": "stdout",
          "text": [
            "1\n",
            "3\n",
            "5\n",
            "7\n",
            "9\n",
            "8\n",
            "6\n",
            "4\n",
            "2\n",
            "10\n",
            "1\n"
          ]
        }
      ]
    },
    {
      "cell_type": "code",
      "source": [
        "# 10810번\n",
        "# N개의 바구니, M번 공 넣기\n",
        "\n",
        "# L = []\n",
        "# N, M = map(int, input().split())\n",
        "# for _ in range(M) :\n",
        "#   A, B = map(int, input().split())\n",
        "#   for i in range(A, B+1) : L.append(int(input()))"
      ],
      "metadata": {
        "id": "bm2vYp6ZhIZg"
      },
      "execution_count": 3,
      "outputs": []
    }
  ]
}