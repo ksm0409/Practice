{
  "nbformat": 4,
  "nbformat_minor": 0,
  "metadata": {
    "colab": {
      "provenance": [],
      "authorship_tag": "ABX9TyN0qhxPUikt5dCWaQ2g62Qi",
      "include_colab_link": true
    },
    "kernelspec": {
      "name": "python3",
      "display_name": "Python 3"
    },
    "language_info": {
      "name": "python"
    }
  },
  "cells": [
    {
      "cell_type": "markdown",
      "metadata": {
        "id": "view-in-github",
        "colab_type": "text"
      },
      "source": [
        "<a href=\"https://colab.research.google.com/github/ksm0409/Practice/blob/main/%EB%B0%B1%EC%A4%80%EC%97%B0%EC%8A%B51.ipynb\" target=\"_parent\"><img src=\"https://colab.research.google.com/assets/colab-badge.svg\" alt=\"Open In Colab\"/></a>"
      ]
    },
    {
      "cell_type": "code",
      "execution_count": null,
      "metadata": {
        "colab": {
          "base_uri": "https://localhost:8080/"
        },
        "id": "P1AyK2axMAgJ",
        "outputId": "e55a090b-53b6-4847-9de8-2e2366c1c5de"
      },
      "outputs": [
        {
          "output_type": "stream",
          "name": "stdout",
          "text": [
            "Hello World!\n"
          ]
        }
      ],
      "source": [
        "print(\"Hello World!\")"
      ]
    },
    {
      "cell_type": "code",
      "source": [
        "# 1000번\n",
        "# A+B 입출력\n",
        "\n",
        "# A = int(input())\n",
        "# B = int(input())\n",
        "# print(A+B)\n",
        "\n",
        "A, B = map(int, input().split())\n",
        "print(A+B)\n",
        "\n",
        "# A,B,C,*_ = map(int, input().split())\n",
        "# print(A+B)\n",
        "# print(_)"
      ],
      "metadata": {
        "colab": {
          "base_uri": "https://localhost:8080/"
        },
        "id": "Hdm5qAFLWPNl",
        "outputId": "abd3cf2a-ff02-48f4-f4bc-0eac934773cb"
      },
      "execution_count": 14,
      "outputs": [
        {
          "output_type": "stream",
          "name": "stdout",
          "text": [
            "1 2\n",
            "3\n"
          ]
        }
      ]
    },
    {
      "cell_type": "code",
      "source": [
        "# 1001번\n",
        "# A-B 입출력\n",
        "\n",
        "A, B = map(int, input().split())\n",
        "print(A-B)\n"
      ],
      "metadata": {
        "colab": {
          "base_uri": "https://localhost:8080/"
        },
        "id": "RIvc6EPcbc9j",
        "outputId": "284d4465-6781-493e-8cc7-aac20d96e6f5"
      },
      "execution_count": 15,
      "outputs": [
        {
          "output_type": "stream",
          "name": "stdout",
          "text": [
            "3 2\n",
            "1\n"
          ]
        }
      ]
    },
    {
      "cell_type": "code",
      "source": [
        "# 10998번\n",
        "# AxB 입출력\n",
        "\n",
        "A, B = map(int, input().split())\n",
        "print(A*B)"
      ],
      "metadata": {
        "colab": {
          "base_uri": "https://localhost:8080/"
        },
        "id": "DBY0pPEUcHCO",
        "outputId": "a8522da7-f7d7-41d5-8f0f-c29c1a563d05"
      },
      "execution_count": 17,
      "outputs": [
        {
          "output_type": "stream",
          "name": "stdout",
          "text": [
            "2 3\n",
            "6\n"
          ]
        }
      ]
    },
    {
      "cell_type": "code",
      "source": [
        "# 1008번\n",
        "# A/B 입출력\n",
        "\n",
        "A, B = map(int, input().split())\n",
        "print(A/B)\n",
        "# print('{:.2f}'.format(A/B))\n",
        "# print('{:.2f}'.format(A/B))\n",
        "# print('%.2f'%(A/B))\n",
        "# print(f'{(A/B):.2f}')\n",
        "# print(round(A/B,2))"
      ],
      "metadata": {
        "colab": {
          "base_uri": "https://localhost:8080/"
        },
        "id": "blJNNantcsFh",
        "outputId": "94215d19-7091-4087-88b7-63eaa703e6af"
      },
      "execution_count": 30,
      "outputs": [
        {
          "output_type": "stream",
          "name": "stdout",
          "text": [
            "2 3\n",
            "0.6666666666666666\n",
            "0.67\n"
          ]
        }
      ]
    },
    {
      "cell_type": "code",
      "source": [
        "# 10869번\n",
        "# 사칙연산 출력\n",
        "\n",
        "A, B = map(int, input().split())\n",
        "print(A+B)\n",
        "print(A-B)\n",
        "print(A*B)\n",
        "print(A//B)\n",
        "print(A%B)"
      ],
      "metadata": {
        "colab": {
          "base_uri": "https://localhost:8080/"
        },
        "id": "W-r_1pDCgFx2",
        "outputId": "5f87a27e-ad59-46c3-a10b-b59f3ab89afc"
      },
      "execution_count": 2,
      "outputs": [
        {
          "output_type": "stream",
          "name": "stdout",
          "text": [
            "7 3\n",
            "10\n",
            "4\n",
            "21\n",
            "2\n",
            "1\n"
          ]
        }
      ]
    }
  ]
}