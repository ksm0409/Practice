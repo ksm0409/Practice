{
  "nbformat": 4,
  "nbformat_minor": 0,
  "metadata": {
    "colab": {
      "provenance": [],
      "authorship_tag": "ABX9TyMNPzrlSp3LXHEeJuS5TDdm",
      "include_colab_link": true
    },
    "kernelspec": {
      "name": "python3",
      "display_name": "Python 3"
    },
    "language_info": {
      "name": "python"
    }
  },
  "cells": [
    {
      "cell_type": "markdown",
      "metadata": {
        "id": "view-in-github",
        "colab_type": "text"
      },
      "source": [
        "<a href=\"https://colab.research.google.com/github/ksm0409/Practice/blob/main/(6)%EC%8B%AC%ED%99%941%EB%8B%A8%EA%B3%84.ipynb\" target=\"_parent\"><img src=\"https://colab.research.google.com/assets/colab-badge.svg\" alt=\"Open In Colab\"/></a>"
      ]
    },
    {
      "cell_type": "code",
      "execution_count": 2,
      "metadata": {
        "colab": {
          "base_uri": "https://localhost:8080/"
        },
        "id": "Wl7pE8O85GFI",
        "outputId": "7b33b80e-b2e0-47be-cef1-a32b91354219"
      },
      "outputs": [
        {
          "output_type": "stream",
          "name": "stdout",
          "text": [
            "         ,r'\"7\n",
            "r`-_   ,'  ,/\n",
            " \\. \". L_r'\n",
            "   `~\\/\n",
            "      |\n",
            "      |\n"
          ]
        }
      ],
      "source": [
        "# 25083번\n",
        "# 새싹\n",
        "\n",
        "print('         ,r\\'\"7')\n",
        "print(\"r`-_   ,'  ,/\")\n",
        "print(' \\. \". L_r\\'')\n",
        "print(\"   `~\\/\")\n",
        "print('      |')\n",
        "print('      |')"
      ]
    },
    {
      "cell_type": "code",
      "source": [
        "# 3003번\n",
        "# 체스\n",
        "\n",
        "A = [1, 1, 2, 2, 2, 8]\n",
        "B = list(map(int, input().split()))\n",
        "C = []\n",
        "for i in range(6) :\n",
        "  C.append(A[i]-B[i])\n",
        "print(*C)\n",
        "\n",
        "\n",
        "# a,b,c,d,e,f=map(int,input().split())\n",
        "# print(1-a,1-b,2-c,2-d,2-e,8-f)"
      ],
      "metadata": {
        "colab": {
          "base_uri": "https://localhost:8080/"
        },
        "id": "09zbgrG06ePK",
        "outputId": "4284617b-2b30-4667-c111-921d7167cfd0"
      },
      "execution_count": 6,
      "outputs": [
        {
          "output_type": "stream",
          "name": "stdout",
          "text": [
            "0 1 2 2 2 7\n",
            "1 0 0 0 0 1\n"
          ]
        }
      ]
    },
    {
      "cell_type": "code",
      "source": [
        "# 2444번\n",
        "# 별찍기\n",
        "\n",
        "A = int(input())\n",
        "for i in range(1, A+1) :\n",
        "  print(' '*(A-i)+'*'*(2*i-1))\n",
        "for i in range(1, A) :\n",
        "  print(' '*i+'*'*(2*A-2*i-1))"
      ],
      "metadata": {
        "colab": {
          "base_uri": "https://localhost:8080/"
        },
        "id": "ILXu4I-e8kP3",
        "outputId": "112cf64f-0244-43ef-e255-0686d01c82ee"
      },
      "execution_count": 20,
      "outputs": [
        {
          "output_type": "stream",
          "name": "stdout",
          "text": [
            "5\n",
            "    *\n",
            "   ***\n",
            "  *****\n",
            " *******\n",
            "*********\n",
            " *******\n",
            "  *****\n",
            "   ***\n",
            "    *\n"
          ]
        }
      ]
    },
    {
      "cell_type": "code",
      "source": [
        "# 10988번\n",
        "# 거꾸로해도 같은문자?\n",
        "\n",
        "A = input()\n",
        "print(1 if A == A[::-1] else 0)\n",
        "\n",
        "# print(int(A==A[::-1])) >> 조건문 없이도 가능"
      ],
      "metadata": {
        "colab": {
          "base_uri": "https://localhost:8080/"
        },
        "id": "-nFA1UTO_VNn",
        "outputId": "f32289bc-1001-4315-d032-4eaf7606655c"
      },
      "execution_count": 22,
      "outputs": [
        {
          "output_type": "stream",
          "name": "stdout",
          "text": [
            "apple\n",
            "0\n"
          ]
        }
      ]
    },
    {
      "cell_type": "code",
      "source": [
        "# 1157번\n",
        "# 단어개수확인\n",
        "\n",
        "\n",
        "# 대소문자 구분 없애기(소문자를 대문자로)\n",
        "# 그담에 개수 세주기\n",
        "\n",
        "\n",
        "# A = input()\n",
        "# B = []\n",
        "# for i in range(len(A)) :\n",
        "#   if ord(A[i])>90 :\n",
        "#     B.append(chr(ord(A[i])-32))\n",
        "#   else :\n",
        "#     B.append(A[i])\n",
        "# C = list(set(B))\n",
        "# D = []\n",
        "# for j in range(len(C)) :\n",
        "#   D.append(B.count(C[j]))\n",
        "# if D.count(max(D)) > 1 :\n",
        "#   print('?')\n",
        "# else :\n",
        "#   print(C[D.index(max(D))])\n",
        "\n",
        "\n",
        "A = input().upper()\n",
        "D = [A.count(chr(i)) for i in range(65, 91)]\n",
        "M = max(D)\n",
        "print('?' if D.count(max(D))>1 else chr(D.index(max(D))+65))\n",
        "\n",
        "\n",
        "# 문자열을 대문자와 소문자로 만들어주는 것 : upper, lower"
      ],
      "metadata": {
        "colab": {
          "base_uri": "https://localhost:8080/"
        },
        "id": "mNQBXlorATzh",
        "outputId": "32082312-94aa-42c9-ccdd-a17025d16271"
      },
      "execution_count": 64,
      "outputs": [
        {
          "output_type": "stream",
          "name": "stdout",
          "text": [
            "mimi\n",
            "?\n"
          ]
        }
      ]
    },
    {
      "cell_type": "code",
      "source": [
        "# 1157번\n",
        "# 크로아티아 알파벳\n",
        "\n",
        "A = ['c=', 'c-', 'dz=', 'd-', 'lj', 'nj', 's=', 'z=']\n",
        "B = input()\n",
        "C = 0\n",
        "for i in B :\n",
        "  for j in A :\n",
        "    if i == j : C += 1\n",
        "print(C)"
      ],
      "metadata": {
        "colab": {
          "base_uri": "https://localhost:8080/"
        },
        "id": "DJ2cSkU7I3wT",
        "outputId": "dbccf1c2-5c8b-447a-96b1-61f9d924899d"
      },
      "execution_count": 66,
      "outputs": [
        {
          "output_type": "stream",
          "name": "stdout",
          "text": [
            "c=c=c=\n",
            "0\n"
          ]
        }
      ]
    }
  ]
}