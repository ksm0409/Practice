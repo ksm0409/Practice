{
  "nbformat": 4,
  "nbformat_minor": 0,
  "metadata": {
    "colab": {
      "provenance": [],
      "authorship_tag": "ABX9TyOvKmAyQIrv27/CJdFf10Ho",
      "include_colab_link": true
    },
    "kernelspec": {
      "name": "python3",
      "display_name": "Python 3"
    },
    "language_info": {
      "name": "python"
    }
  },
  "cells": [
    {
      "cell_type": "markdown",
      "metadata": {
        "id": "view-in-github",
        "colab_type": "text"
      },
      "source": [
        "<a href=\"https://colab.research.google.com/github/ksm0409/Practice/blob/main/(3)%EB%B0%98%EB%B3%B5%EB%AC%B8.ipynb\" target=\"_parent\"><img src=\"https://colab.research.google.com/assets/colab-badge.svg\" alt=\"Open In Colab\"/></a>"
      ]
    },
    {
      "cell_type": "code",
      "execution_count": null,
      "metadata": {
        "colab": {
          "base_uri": "https://localhost:8080/"
        },
        "id": "JUxXF6xlO49-",
        "outputId": "9c7fd5a0-a83c-48d5-fe95-e6fac364b976"
      },
      "outputs": [
        {
          "output_type": "stream",
          "name": "stdout",
          "text": [
            "3\n",
            "3 * 1 = 3\n",
            "3 * 2 = 6\n",
            "3 * 3 = 9\n",
            "3 * 4 = 12\n",
            "3 * 5 = 15\n",
            "3 * 6 = 18\n",
            "3 * 7 = 21\n",
            "3 * 8 = 24\n",
            "3 * 9 = 27\n"
          ]
        }
      ],
      "source": [
        "# 2739번\n",
        "# 구구단\n",
        "\n",
        "a = int(input())\n",
        "# for i in range(9) : print(a, \"*\", i+1, \"=\", a*(i+1))\n",
        "for i in range(1,10) : print(a, \"*\", i, \"=\", a*i)"
      ]
    },
    {
      "cell_type": "code",
      "source": [
        "# 10950번\n",
        "# A+B\n",
        "\n",
        "T = int(input())\n",
        "\n",
        "for _ in range(T) :\n",
        "  A, B = map(int, input().split())\n",
        "  print(int(A+B))\n",
        "\n",
        "# num=int(input())\n",
        "# print(*[sum(map(int,input().split())) for _ in range(0,num)])\n",
        "\n",
        "# a = int(input())\n",
        "# for i in [list(map(int,input().split())) for i in range(a)]:\n",
        "#   print(sum(i))\n",
        "\n",
        "# 3\n",
        "# 0 : [1 2]\n",
        "# 1 : [3 4]\n",
        "# 2 : [5 6]"
      ],
      "metadata": {
        "colab": {
          "base_uri": "https://localhost:8080/"
        },
        "id": "oOJhmsbdRo13",
        "outputId": "c2537e7f-28c7-45fa-9e04-4c402ddd3cdb"
      },
      "execution_count": null,
      "outputs": [
        {
          "output_type": "stream",
          "name": "stdout",
          "text": [
            "3\n",
            "1 2\n",
            "3\n",
            "3 4\n",
            "7\n",
            "5 6\n",
            "11\n"
          ]
        }
      ]
    },
    {
      "cell_type": "code",
      "source": [
        "# 리스트 인덱싱(검색)\n",
        "\n",
        "a = [101, 102, 'b', 'l', 'o', 103, 104, 105]\n",
        "\n",
        "print(f'a[0] : {a[0]}')"
      ],
      "metadata": {
        "colab": {
          "base_uri": "https://localhost:8080/"
        },
        "id": "vMvm5Aliwb2-",
        "outputId": "eaa5a8b5-6759-4f1c-9e9c-6c7ab004adf4"
      },
      "execution_count": null,
      "outputs": [
        {
          "output_type": "stream",
          "name": "stdout",
          "text": [
            "a[0] : 101\n"
          ]
        }
      ]
    },
    {
      "cell_type": "code",
      "source": [
        "# 8393번\n",
        "# 합\n",
        "\n",
        "b = 0;\n",
        "for i in range(1,int(input())+1) : b += i\n",
        "print(b)\n",
        "\n",
        "# num = int(input())\n",
        "# print(sum(list(range(1,1+num))))\n",
        "\n",
        "# n = int(input())\n",
        "# result = sum([i for i in range(1, n+1)])\n",
        "# print(result)"
      ],
      "metadata": {
        "colab": {
          "base_uri": "https://localhost:8080/"
        },
        "id": "WLGsrWu81eTu",
        "outputId": "b5589f7d-93f1-4a25-c30b-df5cf278b655"
      },
      "execution_count": null,
      "outputs": [
        {
          "output_type": "stream",
          "name": "stdout",
          "text": [
            "6\n",
            "21\n"
          ]
        }
      ]
    },
    {
      "cell_type": "code",
      "source": [
        "# 25304번\n",
        "# 영수증\n",
        "\n",
        "X = int(input())\n",
        "N = int(input())\n",
        "C = 0\n",
        "for _ in range(N) :\n",
        "  A, B = map(int, input().split())\n",
        "  C += A*B\n",
        "if X == C : print(\"Yes\")\n",
        "else : print(\"No\")\n",
        "\n",
        "\n",
        "# a,*l=map(int,open(0).read().split())\n",
        "# print(['No','Yes'][a==sum(i*j for i,j in zip(l[1::2],l[2::2]))])\n",
        "\n",
        "\n",
        "# print(\"YNeos\"[int(input())!=sum([a*b for a,b in [map(int,input().split()) for _ in [0]*int(input())]])::2])\n",
        "\n",
        "\n",
        "# a=int(input())\n",
        "# for i in range(int(input())):\n",
        "#     b,c=map(int,input().split())\n",
        "#     a-=b*c\n",
        "# print(\"No\" if a else \"Yes\")"
      ],
      "metadata": {
        "id": "UXJzJCQTAffW",
        "colab": {
          "base_uri": "https://localhost:8080/"
        },
        "outputId": "38e1b31c-13f3-42c6-dfa9-4c37513565f5"
      },
      "execution_count": null,
      "outputs": [
        {
          "output_type": "stream",
          "name": "stdout",
          "text": [
            "250000\n",
            "4\n",
            "20000 5\n",
            "30000 2\n",
            "10000 6\n",
            "5000 8\n",
            "NO\n"
          ]
        }
      ]
    },
    {
      "cell_type": "code",
      "source": [
        "# 25314\n",
        "# 코딩은 체육과목 입니다 long long long long int\n",
        "\n",
        "for _ in range(int(input())//4) : print(\"long \", end=\"\")\n",
        "print(\"int\")\n",
        "\n",
        "# print(int(input())//4*'long '+'int')"
      ],
      "metadata": {
        "colab": {
          "base_uri": "https://localhost:8080/"
        },
        "id": "AifurIWzqKMS",
        "outputId": "8b1f1031-794b-42b3-ad59-733ca2cdf067"
      },
      "execution_count": null,
      "outputs": [
        {
          "output_type": "stream",
          "name": "stdout",
          "text": [
            "15\n",
            "long long long int\n"
          ]
        }
      ]
    },
    {
      "cell_type": "code",
      "source": [
        "# 15552번\n",
        "# 빠른 A+B\n",
        "\n",
        "import sys\n",
        "\n",
        "T = int(input())\n",
        "for _ in range(T) :\n",
        "  A, B = map(int, sys.stdin.readline().split())\n",
        "  print(A+B)"
      ],
      "metadata": {
        "id": "CjTba9Vl2NZh"
      },
      "execution_count": null,
      "outputs": []
    },
    {
      "cell_type": "code",
      "source": [
        "# 11021번\n",
        "# A+B(7)\n",
        "\n",
        "import sys\n",
        "\n",
        "for i in range(int(input())) :\n",
        "  A, B = map(int, sys.stdin.readline().split())\n",
        "  print(f'Case #{i+1}: {A+B}')"
      ],
      "metadata": {
        "id": "5Q_Vg_zPxt6e"
      },
      "execution_count": null,
      "outputs": []
    },
    {
      "cell_type": "code",
      "source": [
        "# 11022번\n",
        "# A+B(8)\n",
        "\n",
        "# \"Case #x: A + B = C\"\n",
        "\n",
        "import sys\n",
        "\n",
        "for i in range(int(input())) :\n",
        "  A, B = map(int, sys.stdin.readline().split())\n",
        "  print(f'Case #{i+1}: {A} + {B} = {A+B}')"
      ],
      "metadata": {
        "id": "9RnluxPW0jXq"
      },
      "execution_count": null,
      "outputs": []
    },
    {
      "cell_type": "code",
      "source": [
        "# 2438번\n",
        "# 별찍기\n",
        "\n",
        "N = int(input())\n",
        "for i in range(N) :\n",
        "  print((i+1)*\"*\")"
      ],
      "metadata": {
        "colab": {
          "base_uri": "https://localhost:8080/"
        },
        "id": "_WNPR_8M1oaU",
        "outputId": "1a5e9d7d-21dc-4b11-f3d4-842b8290c875"
      },
      "execution_count": 18,
      "outputs": [
        {
          "output_type": "stream",
          "name": "stdout",
          "text": [
            "5\n",
            "*\n",
            "**\n",
            "***\n",
            "****\n",
            "*****\n"
          ]
        }
      ]
    }
  ]
}