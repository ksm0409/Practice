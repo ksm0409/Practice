{
  "nbformat": 4,
  "nbformat_minor": 0,
  "metadata": {
    "colab": {
      "provenance": [],
      "authorship_tag": "ABX9TyMxWlkjnQQld9HgWqLPcGjs",
      "include_colab_link": true
    },
    "kernelspec": {
      "name": "python3",
      "display_name": "Python 3"
    },
    "language_info": {
      "name": "python"
    }
  },
  "cells": [
    {
      "cell_type": "markdown",
      "metadata": {
        "id": "view-in-github",
        "colab_type": "text"
      },
      "source": [
        "<a href=\"https://colab.research.google.com/github/ksm0409/Practice/blob/main/(3)%EB%B0%98%EB%B3%B5%EB%AC%B8.ipynb\" target=\"_parent\"><img src=\"https://colab.research.google.com/assets/colab-badge.svg\" alt=\"Open In Colab\"/></a>"
      ]
    },
    {
      "cell_type": "code",
      "execution_count": null,
      "metadata": {
        "colab": {
          "base_uri": "https://localhost:8080/"
        },
        "id": "JUxXF6xlO49-",
        "outputId": "9c7fd5a0-a83c-48d5-fe95-e6fac364b976"
      },
      "outputs": [
        {
          "output_type": "stream",
          "name": "stdout",
          "text": [
            "3\n",
            "3 * 1 = 3\n",
            "3 * 2 = 6\n",
            "3 * 3 = 9\n",
            "3 * 4 = 12\n",
            "3 * 5 = 15\n",
            "3 * 6 = 18\n",
            "3 * 7 = 21\n",
            "3 * 8 = 24\n",
            "3 * 9 = 27\n"
          ]
        }
      ],
      "source": [
        "# 2739번\n",
        "# 구구단\n",
        "\n",
        "a = int(input())\n",
        "# for i in range(9) : print(a, \"*\", i+1, \"=\", a*(i+1))\n",
        "for i in range(1,10) : print(a, \"*\", i, \"=\", a*i)"
      ]
    },
    {
      "cell_type": "code",
      "source": [
        "# 10950번\n",
        "# A+B\n",
        "\n",
        "T = int(input())\n",
        "\n",
        "for _ in range(T) :\n",
        "  A, B = map(int, input().split())\n",
        "  print(int(A+B))\n",
        "\n",
        "# num=int(input())\n",
        "# print(*[sum(map(int,input().split())) for _ in range(0,num)])"
      ],
      "metadata": {
        "colab": {
          "base_uri": "https://localhost:8080/"
        },
        "id": "oOJhmsbdRo13",
        "outputId": "1ce314a5-c81e-47db-de1f-2726359420f6"
      },
      "execution_count": 5,
      "outputs": [
        {
          "output_type": "stream",
          "name": "stdout",
          "text": [
            "3\n",
            "2 1\n",
            "3\n",
            "5 4\n",
            "9\n",
            "9 8\n",
            "17\n"
          ]
        }
      ]
    },
    {
      "cell_type": "code",
      "source": [],
      "metadata": {
        "id": "vMvm5Aliwb2-"
      },
      "execution_count": null,
      "outputs": []
    }
  ]
}