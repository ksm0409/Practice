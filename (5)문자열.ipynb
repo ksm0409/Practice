{
  "nbformat": 4,
  "nbformat_minor": 0,
  "metadata": {
    "colab": {
      "provenance": [],
      "authorship_tag": "ABX9TyMai3SZftPWBdJyFDHYnfI/",
      "include_colab_link": true
    },
    "kernelspec": {
      "name": "python3",
      "display_name": "Python 3"
    },
    "language_info": {
      "name": "python"
    }
  },
  "cells": [
    {
      "cell_type": "markdown",
      "metadata": {
        "id": "view-in-github",
        "colab_type": "text"
      },
      "source": [
        "<a href=\"https://colab.research.google.com/github/ksm0409/Practice/blob/main/(5)%EB%AC%B8%EC%9E%90%EC%97%B4.ipynb\" target=\"_parent\"><img src=\"https://colab.research.google.com/assets/colab-badge.svg\" alt=\"Open In Colab\"/></a>"
      ]
    },
    {
      "cell_type": "code",
      "execution_count": null,
      "metadata": {
        "colab": {
          "base_uri": "https://localhost:8080/"
        },
        "id": "1qX2ATZ4riWL",
        "outputId": "d2765e17-ea5a-410e-c023-3d8ffed3d7e2"
      },
      "outputs": [
        {
          "output_type": "stream",
          "name": "stdout",
          "text": [
            "kalgu\n",
            "3\n",
            "l\n"
          ]
        }
      ],
      "source": [
        "# 27866번\n",
        "# 문자와 문자열\n",
        "\n",
        "S = input()\n",
        "i = int(input())\n",
        "print(S[i-1])"
      ]
    },
    {
      "cell_type": "code",
      "source": [
        "# 2743번\n",
        "# 단어 길이 재기\n",
        "\n",
        "print(len(input()))"
      ],
      "metadata": {
        "colab": {
          "base_uri": "https://localhost:8080/"
        },
        "id": "8du3AnA7v9g_",
        "outputId": "819f5f3d-c6c5-4b8b-efba-215a22ce3a8f"
      },
      "execution_count": null,
      "outputs": [
        {
          "output_type": "stream",
          "name": "stdout",
          "text": [
            "kalgu\n",
            "5\n"
          ]
        }
      ]
    },
    {
      "cell_type": "code",
      "source": [
        "# 9086번\n",
        "# 문자열\n",
        "\n",
        "T = int(input())\n",
        "for _ in range(T) :\n",
        "  A = input()\n",
        "  print(A[0]+A[len(A)-1])\n",
        "# print(A[0]+A[-1]) >> list -1 기억하기"
      ],
      "metadata": {
        "colab": {
          "base_uri": "https://localhost:8080/"
        },
        "id": "ksfld0XUwNtb",
        "outputId": "cb925617-cc60-4a9c-8564-76ac3d6fb56f"
      },
      "execution_count": null,
      "outputs": [
        {
          "output_type": "stream",
          "name": "stdout",
          "text": [
            "3\n",
            "kalgu\n",
            "ku\n",
            "asdf\n",
            "af\n",
            "qrqrq\n",
            "qq\n"
          ]
        }
      ]
    },
    {
      "cell_type": "code",
      "source": [
        "# 11654번\n",
        "# 아스키코드\n",
        "\n",
        "print(ord(input()))\n",
        "# chr가 숫자>>문자\n",
        "# ord가 문자>>숫자"
      ],
      "metadata": {
        "colab": {
          "base_uri": "https://localhost:8080/"
        },
        "id": "2UG5sTQ7yUMf",
        "outputId": "0ab761af-1b17-49cd-fdce-a71b70780a3d"
      },
      "execution_count": null,
      "outputs": [
        {
          "output_type": "stream",
          "name": "stdout",
          "text": [
            "A\n",
            "65\n"
          ]
        }
      ]
    },
    {
      "cell_type": "code",
      "source": [
        "# 11720번\n",
        "# 숫자 합하기\n",
        "\n",
        "# N = int(input())\n",
        "# A = int(input())\n",
        "# S = 0\n",
        "# while A > 0 :\n",
        "#   S += A%10\n",
        "#   A //= 10\n",
        "# print(S)\n",
        "\n",
        "# N = int(input())\n",
        "# A = input()\n",
        "# S = 0\n",
        "# for i in range(N) :\n",
        "#   S += int(A[i])\n",
        "# print(S)\n",
        "\n",
        "N = int(input())\n",
        "A = input()\n",
        "S = 0\n",
        "for i in A :\n",
        "  S += int(i)\n",
        "print(S)"
      ],
      "metadata": {
        "colab": {
          "base_uri": "https://localhost:8080/"
        },
        "id": "jy1xIh5_zLcz",
        "outputId": "3d290e27-037e-4208-dac8-4d699bc01808"
      },
      "execution_count": null,
      "outputs": [
        {
          "output_type": "stream",
          "name": "stdout",
          "text": [
            "5\n",
            "12345\n",
            "15\n"
          ]
        }
      ]
    },
    {
      "cell_type": "code",
      "source": [
        "# 10809번\n",
        "# 알파벳 찾기\n",
        "\n",
        "S = input()\n",
        "L = 'abcdefghijklmnopqrstuvwxyz'\n",
        "for i in L :\n",
        "  print(S.find(i), end = ' ')"
      ],
      "metadata": {
        "id": "oIWKWS9iaBnL",
        "colab": {
          "base_uri": "https://localhost:8080/"
        },
        "outputId": "025e82d0-6555-491e-a419-7fc5092c884e"
      },
      "execution_count": null,
      "outputs": [
        {
          "output_type": "stream",
          "name": "stdout",
          "text": [
            "kalgu\n",
            "1 -1 -1 -1 -1 -1 3 -1 -1 -1 0 2 -1 -1 -1 -1 -1 -1 -1 -1 4 -1 -1 -1 -1 -1 "
          ]
        }
      ]
    },
    {
      "cell_type": "code",
      "source": [
        "# 2675번\n",
        "# 문자열 반복\n",
        "\n",
        "T = int(input())\n",
        "for _ in range(T) :\n",
        "  R, S = input().split()\n",
        "  for i in S :\n",
        "    print(i*int(R), end='')\n",
        "  print()"
      ],
      "metadata": {
        "colab": {
          "base_uri": "https://localhost:8080/"
        },
        "id": "iiSN7_kQOr9z",
        "outputId": "20a92c63-0236-439b-bb3a-6d3032586c4e"
      },
      "execution_count": null,
      "outputs": [
        {
          "output_type": "stream",
          "name": "stdout",
          "text": [
            "2\n",
            "3 ABC\n",
            "AAABBBCCC\n",
            "5 /HTP\n",
            "/////HHHHHTTTTTPPPPP\n"
          ]
        }
      ]
    },
    {
      "cell_type": "code",
      "source": [
        "# 1152번\n",
        "# 단어의 개수\n",
        "\n",
        "T = input().split()\n",
        "print(len(T))"
      ],
      "metadata": {
        "colab": {
          "base_uri": "https://localhost:8080/"
        },
        "id": "R89fyTuaWooY",
        "outputId": "36877104-b3b1-48d1-8a17-80bbf71d7cf3"
      },
      "execution_count": null,
      "outputs": [
        {
          "output_type": "stream",
          "name": "stdout",
          "text": [
            "a b c d e f\n",
            "6\n"
          ]
        }
      ]
    },
    {
      "cell_type": "code",
      "source": [
        "# 2908번\n",
        "# 상수\n",
        "\n",
        "A, B = input().split()\n",
        "print(max(int(A[::-1]), int(B[::-1])))"
      ],
      "metadata": {
        "colab": {
          "base_uri": "https://localhost:8080/"
        },
        "id": "OJUP_uaMB12l",
        "outputId": "08d6d1dc-4b82-4fc5-ecd1-6e88269b61e9"
      },
      "execution_count": null,
      "outputs": [
        {
          "output_type": "stream",
          "name": "stdout",
          "text": [
            "53 49\n",
            "94\n"
          ]
        }
      ]
    },
    {
      "cell_type": "code",
      "source": [
        "# 5622번\n",
        "# 다이얼\n",
        "\n",
        "A = ['ABC', 'DEF', 'GHI', 'JKL', 'MNO', 'PQRS', 'TUV', 'WXYZ']\n",
        "T = 0\n",
        "B = input()\n",
        "for i in range(len(B)) :\n",
        "  for j in A :\n",
        "    if B[i] in j : T += A.index(j)+3\n",
        "print(T)"
      ],
      "metadata": {
        "id": "3utV0-oZE1AT",
        "colab": {
          "base_uri": "https://localhost:8080/"
        },
        "outputId": "fdca764a-6c33-4a2d-cdb1-1b2cc7a4863b"
      },
      "execution_count": 5,
      "outputs": [
        {
          "output_type": "stream",
          "name": "stdout",
          "text": [
            "WA\n",
            "13\n"
          ]
        }
      ]
    },
    {
      "cell_type": "code",
      "source": [
        "# 11718번\n",
        "# 그대로 출력하기\n",
        "\n",
        "while True :\n",
        "  try :\n",
        "    print(input())\n",
        "  except :\n",
        "    break\n",
        "\n",
        "# print(open(0).read())\n",
        "\n",
        "# import sys\n",
        "# print(sys.stdin.read())"
      ],
      "metadata": {
        "colab": {
          "base_uri": "https://localhost:8080/"
        },
        "id": "xYjzqS42l5fE",
        "outputId": "2be88000-d830-406e-e82c-9e83cfab1b20"
      },
      "execution_count": 6,
      "outputs": [
        {
          "name": "stdout",
          "output_type": "stream",
          "text": [
            "hello\n",
            "hello\n",
            "Baekjoon\n",
            "Baekjoon\n",
            "\u0004\n"
          ]
        }
      ]
    }
  ]
}